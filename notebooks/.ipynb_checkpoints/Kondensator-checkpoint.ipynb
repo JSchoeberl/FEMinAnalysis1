{
 "cells": [
  {
   "cell_type": "markdown",
   "id": "e60190e6-729f-4d8c-bd25-64e26bac1c02",
   "metadata": {},
   "source": [
    "# Das elektrische Feld in einem Kondensator\n",
    "\n",
    "Wird durch die Poissongleichung beschrieben"
   ]
  },
  {
   "cell_type": "code",
   "execution_count": null,
   "id": "cae64c6a-81fc-4d73-b008-72472c281804",
   "metadata": {},
   "outputs": [],
   "source": [
    "from ngsolve import *\n",
    "from netgen.occ import *\n",
    "from ngsolve.webgui import Draw"
   ]
  },
  {
   "cell_type": "code",
   "execution_count": null,
   "id": "33c57543-99b4-45df-885b-d749cb6c6ab0",
   "metadata": {},
   "outputs": [],
   "source": [
    "def MakeMesh():\n",
    "    square = MoveTo(0,0).RectangleC(20,20).Face()\n",
    "    el1 = MoveTo(0,1).RectangleC(5,0.5).Face()\n",
    "    el1.edges.name=\"el1\"\n",
    "    el1.vertices.hpref=1\n",
    "    el2 = MoveTo(0,-1).RectangleC(5,0.5).Face()\n",
    "    el2.edges.name=\"el2\"\n",
    "    el2.vertices.hpref=1\n",
    "    geo = square - el1 - el2\n",
    "    mesh = Mesh(OCCGeometry(geo, dim=2).GenerateMesh(maxh=2))\n",
    "    # mesh.RefineHP(3, 0.25)\n",
    "    return geo,mesh"
   ]
  },
  {
   "cell_type": "markdown",
   "id": "5d2d9910-34d8-499f-a4b9-5708ec4ccf9a",
   "metadata": {},
   "source": [
    "Wir erzeugen eine Geometrie und FiniteElemente Netz eines Plattenkondensators:"
   ]
  },
  {
   "cell_type": "code",
   "execution_count": null,
   "id": "51e145d4-0312-4261-9cb2-4f167777b72e",
   "metadata": {},
   "outputs": [],
   "source": [
    "geo, mesh = MakeMesh()\n",
    "Draw (geo)\n",
    "Draw (mesh);"
   ]
  },
  {
   "cell_type": "markdown",
   "id": "02be0c8d-3d61-4c31-a5b2-174ad656a114",
   "metadata": {},
   "source": [
    "Wir assemblieren und lösen das Finite Elemente Gleichungssytem. Das Potential auf den Platten (+1 Volt, -1 Volt) wird als Randbedingung vorgegeben:"
   ]
  },
  {
   "cell_type": "code",
   "execution_count": null,
   "id": "2a7c81f8-4138-4448-a3ed-903c4b6363a1",
   "metadata": {},
   "outputs": [],
   "source": [
    "def SolveProblem(mesh):\n",
    "    fes = H1(mesh, order=5, dirichlet=\"el.*\")\n",
    "    u,v = fes.TnT()\n",
    "\n",
    "    a = BilinearForm(grad(u)*grad(v)*dx).Assemble()\n",
    "\n",
    "    gfu = GridFunction(fes)\n",
    "    gfu.Interpolate( mesh.BoundaryCF( {\"el1\":1, \"el2\":-1 }), mesh.Boundaries(\".*\"))\n",
    "\n",
    "    inv = a.mat.Inverse(freedofs=fes.FreeDofs())\n",
    "    gfu.vec.data -= inv@a.mat * gfu.vec\n",
    "    return gfu\n",
    "\n",
    "gfu = SolveProblem(mesh)\n",
    "Draw (gfu, deformation=True, scale=5);"
   ]
  },
  {
   "cell_type": "markdown",
   "id": "a465a066-61cb-4c31-b3fd-04e28dae869d",
   "metadata": {},
   "source": [
    "Das elektrische Feld ist der Gradient des elektrischen Potentials:"
   ]
  },
  {
   "cell_type": "code",
   "execution_count": null,
   "id": "c4cbb35c-80db-470d-bb06-6fc268bc35a5",
   "metadata": {},
   "outputs": [],
   "source": [
    "Draw (Norm(grad(gfu)), mesh, order=3, deformation=True, min=0, max=3);"
   ]
  },
  {
   "cell_type": "markdown",
   "id": "52231d46-7acb-4394-9a9c-ec8c81db9b2a",
   "metadata": {},
   "source": [
    "Um die Spitzen (Singularitäten, Unstetigkeitsstellen) des elektrischen Feldes besser auflösen zu können müssen wir das Netz dort lokal verfeinern. Dazu aktivieren wir das `RefineHP`"
   ]
  },
  {
   "cell_type": "code",
   "execution_count": null,
   "id": "131e9c2d-63a9-4ab8-9200-289ff73ac515",
   "metadata": {},
   "outputs": [],
   "source": [
    "geo, mesh = MakeMesh()\n",
    "mesh.RefineHP(3, 0.25)\n",
    "gfu = SolveProblem(mesh)\n",
    "Draw (gfu, deformation=True, scale=5)\n",
    "Draw (Norm(grad(gfu)), mesh, order=3, deformation=True, min=0, max=3);"
   ]
  },
  {
   "cell_type": "markdown",
   "id": "073830b1-3a6e-4c2f-ba3a-86278db1f696",
   "metadata": {},
   "source": [
    "Um solche Singularitäten zu vermeiden können wir die eckige Geometrie abrunden:"
   ]
  },
  {
   "cell_type": "code",
   "execution_count": null,
   "id": "d587fc84-1a08-490a-a6fc-778682a0f513",
   "metadata": {},
   "outputs": [],
   "source": [
    "def MakeMeshRounded():\n",
    "    square = MoveTo(0,0).RectangleC(20,20).Face()\n",
    "    el1 = MoveTo(0,1).RectangleC(5,0.5).Face()\n",
    "    el1 += MoveTo(2.5,1).Circle(0.25).Face()\n",
    "    el1 += MoveTo(-2.5,1).Circle(0.25).Face()\n",
    "    el1.edges.name=\"el1\"\n",
    "    el2 = MoveTo(0,-1).RectangleC(5,0.5).Face()\n",
    "    el2 += MoveTo(2.5,-1).Circle(0.25).Face()\n",
    "    el2 += MoveTo(-2.5,-1).Circle(0.25).Face()\n",
    "    el2.edges.name=\"el2\"\n",
    "    geo = square - el1 - el2\n",
    "    mesh = Mesh(OCCGeometry(geo, dim=2).GenerateMesh(maxh=2))\n",
    "    return geo,mesh"
   ]
  },
  {
   "cell_type": "code",
   "execution_count": null,
   "id": "0d3d0515-523c-4f2a-9c9a-e0615577c81b",
   "metadata": {},
   "outputs": [],
   "source": [
    "geo, mesh = MakeMeshRounded()\n",
    "Draw(geo)\n",
    "Draw (mesh);"
   ]
  },
  {
   "cell_type": "code",
   "execution_count": null,
   "id": "fd5d700e-b083-4ae8-a7c8-679bee065d56",
   "metadata": {},
   "outputs": [],
   "source": [
    "gfu = SolveProblem(mesh)\n",
    "Draw (gfu, deformation=True, scale=5)\n",
    "Draw (Norm(grad(gfu)), mesh, order=3, deformation=True, min=0, max=2);"
   ]
  },
  {
   "cell_type": "markdown",
   "id": "c2376cbb-e95c-4f80-a565-fab48a35a90b",
   "metadata": {},
   "source": [
    "Wir sehen aber noch immer Spitzen in den Ecken des Netzes. Um diese hausgemachten Unstetigkeitsstellen zu vermeiden krümmen wir die Elemente mit der `Curve` Funktion."
   ]
  },
  {
   "cell_type": "code",
   "execution_count": null,
   "id": "90d2dea4-c0de-417b-87b4-fd014c879ce7",
   "metadata": {},
   "outputs": [],
   "source": [
    "geo, mesh = MakeMeshRounded()\n",
    "mesh.Curve(5)\n",
    "\n",
    "gfu = SolveProblem(mesh)\n",
    "Draw (gfu, deformation=True, scale=5)\n",
    "Draw (Norm(grad(gfu)), mesh, order=3, deformation=True, min=0, max=3);"
   ]
  },
  {
   "cell_type": "code",
   "execution_count": null,
   "id": "10b34673-fcaa-4cc7-929a-583bbb1b0af3",
   "metadata": {},
   "outputs": [],
   "source": []
  },
  {
   "cell_type": "code",
   "execution_count": null,
   "id": "2e40fae3-2482-4157-9510-7893f83e624e",
   "metadata": {},
   "outputs": [],
   "source": []
  }
 ],
 "metadata": {
  "kernelspec": {
   "display_name": "Python 3 (ipykernel)",
   "language": "python",
   "name": "python3"
  },
  "language_info": {
   "codemirror_mode": {
    "name": "ipython",
    "version": 3
   },
   "file_extension": ".py",
   "mimetype": "text/x-python",
   "name": "python",
   "nbconvert_exporter": "python",
   "pygments_lexer": "ipython3",
   "version": "3.13.1"
  }
 },
 "nbformat": 4,
 "nbformat_minor": 5
}
